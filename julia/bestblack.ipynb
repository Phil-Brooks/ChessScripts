{
 "cells": [
  {
   "cell_type": "code",
   "execution_count": 1,
   "id": "3b223692",
   "metadata": {},
   "outputs": [],
   "source": [
    "include(raw\"D:\\Github\\ChessScripts\\julia\\bestblack.jl\")"
   ]
  },
  {
   "cell_type": "markdown",
   "id": "e13d5e43",
   "metadata": {},
   "source": [
    "### Options\n",
    "- !n - move forward based on nth response\n",
    "- !0 - go to start\n",
    "- b() - play best move\n",
    "- a() - add new entry for currently empty option\n",
    "- f(fen) - go to board of the FEN fn\n"
   ]
  },
  {
   "cell_type": "code",
   "execution_count": 24,
   "id": "be8e3e8b",
   "metadata": {},
   "outputs": [
    {
     "data": {
      "text/plain": [
       "\"r2qr1k1/pp3ppp/5n2/2np1N2/8/2P2N2/PP3PPP/R2Q1RK1 b - -\""
      ]
     },
     "execution_count": 24,
     "metadata": {},
     "output_type": "execute_result"
    }
   ],
   "source": [
    "fen(cbd)"
   ]
  }
 ],
 "metadata": {
  "kernelspec": {
   "display_name": "Julia 1.7.2",
   "language": "julia",
   "name": "julia-1.7"
  },
  "language_info": {
   "file_extension": ".jl",
   "mimetype": "application/julia",
   "name": "julia",
   "version": "1.7.2"
  }
 },
 "nbformat": 4,
 "nbformat_minor": 5
}
